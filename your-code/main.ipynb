{
 "cells": [
  {
   "cell_type": "code",
   "execution_count": 2,
   "metadata": {},
   "outputs": [],
   "source": [
    "import requests\n",
    "import json\n",
    "import pandas as pd\n",
    "from requests.auth import HTTPBasicAuth\n",
    "from getpass import getpass"
   ]
  },
  {
   "cell_type": "code",
   "execution_count": 3,
   "metadata": {},
   "outputs": [
    {
     "name": "stdout",
     "output_type": "stream",
     "text": [
      "[None, None, 'Jupyter Notebook']\n"
     ]
    }
   ],
   "source": [
    "#challenge 1\n",
    "#1. Obtain the full list of forks created from the main lab repo via Github API.\n",
    "url = \"https://api.github.com/repos/ironhack-datalabs/bcn-feb-2019/forks\"\n",
    "response = requests.get(url)\n",
    "response=response.json()\n",
    "len(response)\n",
    "#df=pd.DataFrame(response)\n",
    "#df\n",
    "#languages= []\n",
    "\n",
    "#challenge 1 question 2\n",
    "language_array=[x[\"language\"] for x in response]\n",
    "\n",
    "#challene 2 question 3\n",
    "\n",
    "print(language_array)"
   ]
  },
  {
   "cell_type": "code",
   "execution_count": 6,
   "metadata": {},
   "outputs": [
    {
     "name": "stdout",
     "output_type": "stream",
     "text": [
      "https://api.github.com/repos/ta-data-lis/lab-mysql-first-queries/commits?since=2016-12-30\n"
     ]
    },
    {
     "data": {
      "text/plain": [
       "200"
      ]
     },
     "metadata": {},
     "output_type": "display_data"
    },
    {
     "data": {
      "text/plain": [
       "(4, 57)"
      ]
     },
     "execution_count": 6,
     "metadata": {},
     "output_type": "execute_result"
    }
   ],
   "source": [
    "### Challenge 2: Count Commits\n",
    "\n",
    "from datetime import datetime, timedelta\n",
    "date = str(datetime.now() - timedelta(days=1400))[:10]\n",
    "date\n",
    "url = 'https://api.github.com/repos/ta-data-lis/lab-mysql-first-queries/commits?since='+date\n",
    "print(url)\n",
    "response = requests.get(url)\n",
    "# check if connection succcessful\n",
    "display(response.status_code)\n",
    "response.text\n",
    "response.json()\n",
    "df = pd.json_normalize(response.json()).head()\n",
    "df.shape"
   ]
  },
  {
   "cell_type": "code",
   "execution_count": null,
   "metadata": {},
   "outputs": [],
   "source": []
  }
 ],
 "metadata": {
  "kernelspec": {
   "display_name": "Python 3",
   "language": "python",
   "name": "python3"
  },
  "language_info": {
   "codemirror_mode": {
    "name": "ipython",
    "version": 3
   },
   "file_extension": ".py",
   "mimetype": "text/x-python",
   "name": "python",
   "nbconvert_exporter": "python",
   "pygments_lexer": "ipython3",
   "version": "3.8.5"
  }
 },
 "nbformat": 4,
 "nbformat_minor": 4
}
